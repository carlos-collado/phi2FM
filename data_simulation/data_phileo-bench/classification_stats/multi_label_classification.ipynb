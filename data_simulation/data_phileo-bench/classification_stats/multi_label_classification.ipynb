{
 "cells": [
  {
   "cell_type": "markdown",
   "metadata": {},
   "source": [
    "I simply changed the Cross Entropy by BCE with logit loss\n",
    "\n",
    "This allows for multi-class. However, may not be ideal for predicting uncommon classes"
   ]
  },
  {
   "cell_type": "code",
   "execution_count": 1,
   "metadata": {},
   "outputs": [],
   "source": [
    "import numpy as np\n",
    "import matplotlib.pyplot as plt\n",
    "import pandas as pd\n",
    "import os\n",
    "from tqdm import tqdm"
   ]
  },
  {
   "cell_type": "code",
   "execution_count": 2,
   "metadata": {},
   "outputs": [],
   "source": [
    "REGIONS_BUCKETS = {'europe': ['europe','denmark-1','denmark-2'],\n",
    "                   'east-africa':['east-africa','tanzania-1','tanzania-2','tanzania-3','tanzania-4','tanzania-5','uganda-1'],\n",
    "                   'northwest-africa':['eq-guinea','ghana-1','egypt-1','isreal-1','isreal-2','nigeria','senegal'],\n",
    "                   'north-america':['north-america'],\n",
    "                   'south-america':['south-america'],\n",
    "                   'japan':['japan']}\n"
   ]
  },
  {
   "cell_type": "code",
   "execution_count": 92,
   "metadata": {},
   "outputs": [],
   "source": [
    "patches_folder = \"/home/ccollado/phileo_phisat2/L1C/np_patches_128_cropped\"\n",
    "train_files = [f for f in os.listdir(patches_folder) if f.endswith(\"train_label_lc.npy\")]\n",
    "europe_train_files = [f for f in train_files if any([region in f for region in REGIONS_BUCKETS['europe']])]\n",
    "unique_keys = [10, 20, 30, 40, 50, 60, 70, 80, 90, 95, 100]\n"
   ]
  },
  {
   "cell_type": "code",
   "execution_count": 93,
   "metadata": {},
   "outputs": [
    {
     "name": "stdout",
     "output_type": "stream",
     "text": [
      "Processing region: europe\n"
     ]
    },
    {
     "name": "stderr",
     "output_type": "stream",
     "text": [
      "100%|██████████| 161/161 [00:00<00:00, 260.79it/s]\n"
     ]
    },
    {
     "name": "stdout",
     "output_type": "stream",
     "text": [
      "Processing region: east-africa\n"
     ]
    },
    {
     "name": "stderr",
     "output_type": "stream",
     "text": [
      "100%|██████████| 225/225 [00:07<00:00, 29.28it/s]\n"
     ]
    },
    {
     "name": "stdout",
     "output_type": "stream",
     "text": [
      "Processing region: northwest-africa\n"
     ]
    },
    {
     "name": "stderr",
     "output_type": "stream",
     "text": [
      "100%|██████████| 355/355 [00:07<00:00, 49.19it/s]\n"
     ]
    },
    {
     "name": "stdout",
     "output_type": "stream",
     "text": [
      "Processing region: north-america\n"
     ]
    },
    {
     "name": "stderr",
     "output_type": "stream",
     "text": [
      "100%|██████████| 62/62 [00:01<00:00, 42.12it/s]\n"
     ]
    },
    {
     "name": "stdout",
     "output_type": "stream",
     "text": [
      "Processing region: south-america\n"
     ]
    },
    {
     "name": "stderr",
     "output_type": "stream",
     "text": [
      "100%|██████████| 78/78 [00:01<00:00, 40.64it/s]\n"
     ]
    },
    {
     "name": "stdout",
     "output_type": "stream",
     "text": [
      "Processing region: japan\n"
     ]
    },
    {
     "name": "stderr",
     "output_type": "stream",
     "text": [
      "100%|██████████| 31/31 [00:00<00:00, 51.06it/s]\n"
     ]
    }
   ],
   "source": [
    "df_counts = pd.DataFrame(index=unique_keys, columns=REGIONS_BUCKETS.keys(), data=0.0)\n",
    "df_proportions = df_counts.copy()\n",
    "\n",
    "for region, region_files in REGIONS_BUCKETS.items():\n",
    "    print(f\"Processing region: {region}\")\n",
    "    # Filter train files for the current region\n",
    "    region_train_files = [f for f in train_files if any([region in f for region in region_files])]\n",
    "    num_files = 0\n",
    "\n",
    "    # Process each file in the current region\n",
    "    for file in tqdm(region_train_files):\n",
    "        arr = np.load(os.path.join(patches_folder, file))\n",
    "        num_files += arr.shape[0]\n",
    "        present_keys = [sum(1 for i in range(arr.shape[0]) if key in arr[i]) for key in unique_keys]\n",
    "        df_counts.loc[:, region] += present_keys\n",
    "\n",
    "    df_proportions.loc[:, region] = df_counts.loc[:, region] / num_files"
   ]
  },
  {
   "cell_type": "code",
   "execution_count": 94,
   "metadata": {},
   "outputs": [
    {
     "data": {
      "text/html": [
       "<div>\n",
       "<style scoped>\n",
       "    .dataframe tbody tr th:only-of-type {\n",
       "        vertical-align: middle;\n",
       "    }\n",
       "\n",
       "    .dataframe tbody tr th {\n",
       "        vertical-align: top;\n",
       "    }\n",
       "\n",
       "    .dataframe thead th {\n",
       "        text-align: right;\n",
       "    }\n",
       "</style>\n",
       "<table border=\"1\" class=\"dataframe\">\n",
       "  <thead>\n",
       "    <tr style=\"text-align: right;\">\n",
       "      <th></th>\n",
       "      <th>europe</th>\n",
       "      <th>east-africa</th>\n",
       "      <th>northwest-africa</th>\n",
       "      <th>north-america</th>\n",
       "      <th>south-america</th>\n",
       "      <th>japan</th>\n",
       "    </tr>\n",
       "  </thead>\n",
       "  <tbody>\n",
       "    <tr>\n",
       "      <th>10</th>\n",
       "      <td>0.746012</td>\n",
       "      <td>0.854841</td>\n",
       "      <td>0.655800</td>\n",
       "      <td>0.838482</td>\n",
       "      <td>0.873825</td>\n",
       "      <td>0.851811</td>\n",
       "    </tr>\n",
       "    <tr>\n",
       "      <th>20</th>\n",
       "      <td>0.017207</td>\n",
       "      <td>0.917982</td>\n",
       "      <td>0.811546</td>\n",
       "      <td>0.171274</td>\n",
       "      <td>0.316348</td>\n",
       "      <td>0.000000</td>\n",
       "    </tr>\n",
       "    <tr>\n",
       "      <th>30</th>\n",
       "      <td>0.813587</td>\n",
       "      <td>0.933373</td>\n",
       "      <td>0.913679</td>\n",
       "      <td>0.813550</td>\n",
       "      <td>0.814983</td>\n",
       "      <td>0.608123</td>\n",
       "    </tr>\n",
       "    <tr>\n",
       "      <th>40</th>\n",
       "      <td>0.541674</td>\n",
       "      <td>0.828927</td>\n",
       "      <td>0.689375</td>\n",
       "      <td>0.222222</td>\n",
       "      <td>0.219594</td>\n",
       "      <td>0.504940</td>\n",
       "    </tr>\n",
       "    <tr>\n",
       "      <th>50</th>\n",
       "      <td>0.501882</td>\n",
       "      <td>0.578269</td>\n",
       "      <td>0.334777</td>\n",
       "      <td>0.530623</td>\n",
       "      <td>0.370337</td>\n",
       "      <td>0.407245</td>\n",
       "    </tr>\n",
       "    <tr>\n",
       "      <th>60</th>\n",
       "      <td>0.124574</td>\n",
       "      <td>0.227901</td>\n",
       "      <td>0.226687</td>\n",
       "      <td>0.406504</td>\n",
       "      <td>0.282681</td>\n",
       "      <td>0.198683</td>\n",
       "    </tr>\n",
       "    <tr>\n",
       "      <th>70</th>\n",
       "      <td>0.020792</td>\n",
       "      <td>0.000000</td>\n",
       "      <td>0.000000</td>\n",
       "      <td>0.000000</td>\n",
       "      <td>0.000000</td>\n",
       "      <td>0.000000</td>\n",
       "    </tr>\n",
       "    <tr>\n",
       "      <th>80</th>\n",
       "      <td>0.415487</td>\n",
       "      <td>0.046961</td>\n",
       "      <td>0.090978</td>\n",
       "      <td>0.256911</td>\n",
       "      <td>0.265999</td>\n",
       "      <td>0.254665</td>\n",
       "    </tr>\n",
       "    <tr>\n",
       "      <th>90</th>\n",
       "      <td>0.165442</td>\n",
       "      <td>0.075901</td>\n",
       "      <td>0.078306</td>\n",
       "      <td>0.076965</td>\n",
       "      <td>0.113436</td>\n",
       "      <td>0.037322</td>\n",
       "    </tr>\n",
       "    <tr>\n",
       "      <th>95</th>\n",
       "      <td>0.000000</td>\n",
       "      <td>0.000855</td>\n",
       "      <td>0.011372</td>\n",
       "      <td>0.021680</td>\n",
       "      <td>0.020322</td>\n",
       "      <td>0.000000</td>\n",
       "    </tr>\n",
       "    <tr>\n",
       "      <th>100</th>\n",
       "      <td>0.064169</td>\n",
       "      <td>0.000000</td>\n",
       "      <td>0.000000</td>\n",
       "      <td>0.000000</td>\n",
       "      <td>0.000000</td>\n",
       "      <td>0.000000</td>\n",
       "    </tr>\n",
       "  </tbody>\n",
       "</table>\n",
       "</div>"
      ],
      "text/plain": [
       "       europe  east-africa  northwest-africa  north-america  south-america  \\\n",
       "10   0.746012     0.854841          0.655800       0.838482       0.873825   \n",
       "20   0.017207     0.917982          0.811546       0.171274       0.316348   \n",
       "30   0.813587     0.933373          0.913679       0.813550       0.814983   \n",
       "40   0.541674     0.828927          0.689375       0.222222       0.219594   \n",
       "50   0.501882     0.578269          0.334777       0.530623       0.370337   \n",
       "60   0.124574     0.227901          0.226687       0.406504       0.282681   \n",
       "70   0.020792     0.000000          0.000000       0.000000       0.000000   \n",
       "80   0.415487     0.046961          0.090978       0.256911       0.265999   \n",
       "90   0.165442     0.075901          0.078306       0.076965       0.113436   \n",
       "95   0.000000     0.000855          0.011372       0.021680       0.020322   \n",
       "100  0.064169     0.000000          0.000000       0.000000       0.000000   \n",
       "\n",
       "        japan  \n",
       "10   0.851811  \n",
       "20   0.000000  \n",
       "30   0.608123  \n",
       "40   0.504940  \n",
       "50   0.407245  \n",
       "60   0.198683  \n",
       "70   0.000000  \n",
       "80   0.254665  \n",
       "90   0.037322  \n",
       "95   0.000000  \n",
       "100  0.000000  "
      ]
     },
     "execution_count": 94,
     "metadata": {},
     "output_type": "execute_result"
    }
   ],
   "source": [
    "df_proportions"
   ]
  },
  {
   "cell_type": "code",
   "execution_count": 11,
   "metadata": {},
   "outputs": [],
   "source": [
    "df_counts.to_csv(\"counts_by_region.csv\")\n",
    "df_proportions.to_csv(\"proportions_by_region.csv\")"
   ]
  },
  {
   "cell_type": "code",
   "execution_count": 12,
   "metadata": {},
   "outputs": [
    {
     "data": {
      "text/plain": [
       "10     70550.0\n",
       "20      1443.0\n",
       "30     76088.0\n",
       "40     49178.0\n",
       "50     42043.0\n",
       "60      9539.0\n",
       "70      1844.0\n",
       "80     52736.0\n",
       "90     14297.0\n",
       "95         0.0\n",
       "100     6897.0\n",
       "Name: europe, dtype: float64"
      ]
     },
     "execution_count": 12,
     "metadata": {},
     "output_type": "execute_result"
    }
   ],
   "source": [
    "df_counts = pd.read_csv(\"counts_by_region.csv\", index_col=0)\n",
    "df_counts['europe']"
   ]
  },
  {
   "cell_type": "code",
   "execution_count": 11,
   "metadata": {},
   "outputs": [
    {
     "data": {
      "text/html": [
       "<div>\n",
       "<style scoped>\n",
       "    .dataframe tbody tr th:only-of-type {\n",
       "        vertical-align: middle;\n",
       "    }\n",
       "\n",
       "    .dataframe tbody tr th {\n",
       "        vertical-align: top;\n",
       "    }\n",
       "\n",
       "    .dataframe thead th {\n",
       "        text-align: right;\n",
       "    }\n",
       "</style>\n",
       "<table border=\"1\" class=\"dataframe\">\n",
       "  <thead>\n",
       "    <tr style=\"text-align: right;\">\n",
       "      <th></th>\n",
       "      <th>europe</th>\n",
       "      <th>east-africa</th>\n",
       "      <th>northwest-africa</th>\n",
       "      <th>north-america</th>\n",
       "      <th>south-america</th>\n",
       "      <th>japan</th>\n",
       "    </tr>\n",
       "  </thead>\n",
       "  <tbody>\n",
       "    <tr>\n",
       "      <th>10</th>\n",
       "      <td>0.648855</td>\n",
       "      <td>0.804432</td>\n",
       "      <td>0.557173</td>\n",
       "      <td>0.730714</td>\n",
       "      <td>0.820688</td>\n",
       "      <td>0.626112</td>\n",
       "    </tr>\n",
       "    <tr>\n",
       "      <th>20</th>\n",
       "      <td>0.013271</td>\n",
       "      <td>0.878918</td>\n",
       "      <td>0.748600</td>\n",
       "      <td>0.232399</td>\n",
       "      <td>0.269052</td>\n",
       "      <td>0.000113</td>\n",
       "    </tr>\n",
       "    <tr>\n",
       "      <th>30</th>\n",
       "      <td>0.699788</td>\n",
       "      <td>0.880432</td>\n",
       "      <td>0.845139</td>\n",
       "      <td>0.730013</td>\n",
       "      <td>0.731161</td>\n",
       "      <td>0.365443</td>\n",
       "    </tr>\n",
       "    <tr>\n",
       "      <th>40</th>\n",
       "      <td>0.452295</td>\n",
       "      <td>0.715842</td>\n",
       "      <td>0.673682</td>\n",
       "      <td>0.228498</td>\n",
       "      <td>0.180196</td>\n",
       "      <td>0.247172</td>\n",
       "    </tr>\n",
       "    <tr>\n",
       "      <th>50</th>\n",
       "      <td>0.386673</td>\n",
       "      <td>0.379115</td>\n",
       "      <td>0.241348</td>\n",
       "      <td>0.351259</td>\n",
       "      <td>0.221172</td>\n",
       "      <td>0.147640</td>\n",
       "    </tr>\n",
       "    <tr>\n",
       "      <th>60</th>\n",
       "      <td>0.087731</td>\n",
       "      <td>0.125112</td>\n",
       "      <td>0.176797</td>\n",
       "      <td>0.313710</td>\n",
       "      <td>0.163098</td>\n",
       "      <td>0.068165</td>\n",
       "    </tr>\n",
       "    <tr>\n",
       "      <th>70</th>\n",
       "      <td>0.016959</td>\n",
       "      <td>0.000000</td>\n",
       "      <td>0.000000</td>\n",
       "      <td>0.000000</td>\n",
       "      <td>0.000000</td>\n",
       "      <td>0.000000</td>\n",
       "    </tr>\n",
       "    <tr>\n",
       "      <th>80</th>\n",
       "      <td>0.485018</td>\n",
       "      <td>0.071864</td>\n",
       "      <td>0.111725</td>\n",
       "      <td>0.282712</td>\n",
       "      <td>0.254164</td>\n",
       "      <td>0.419281</td>\n",
       "    </tr>\n",
       "    <tr>\n",
       "      <th>90</th>\n",
       "      <td>0.131491</td>\n",
       "      <td>0.076411</td>\n",
       "      <td>0.055611</td>\n",
       "      <td>0.077542</td>\n",
       "      <td>0.092940</td>\n",
       "      <td>0.011688</td>\n",
       "    </tr>\n",
       "    <tr>\n",
       "      <th>95</th>\n",
       "      <td>0.000000</td>\n",
       "      <td>0.001152</td>\n",
       "      <td>0.017466</td>\n",
       "      <td>0.017497</td>\n",
       "      <td>0.018911</td>\n",
       "      <td>0.000075</td>\n",
       "    </tr>\n",
       "    <tr>\n",
       "      <th>100</th>\n",
       "      <td>0.063432</td>\n",
       "      <td>0.000000</td>\n",
       "      <td>0.000000</td>\n",
       "      <td>0.002859</td>\n",
       "      <td>0.000000</td>\n",
       "      <td>0.000038</td>\n",
       "    </tr>\n",
       "  </tbody>\n",
       "</table>\n",
       "</div>"
      ],
      "text/plain": [
       "       europe  east-africa  northwest-africa  north-america  south-america  \\\n",
       "10   0.648855     0.804432          0.557173       0.730714       0.820688   \n",
       "20   0.013271     0.878918          0.748600       0.232399       0.269052   \n",
       "30   0.699788     0.880432          0.845139       0.730013       0.731161   \n",
       "40   0.452295     0.715842          0.673682       0.228498       0.180196   \n",
       "50   0.386673     0.379115          0.241348       0.351259       0.221172   \n",
       "60   0.087731     0.125112          0.176797       0.313710       0.163098   \n",
       "70   0.016959     0.000000          0.000000       0.000000       0.000000   \n",
       "80   0.485018     0.071864          0.111725       0.282712       0.254164   \n",
       "90   0.131491     0.076411          0.055611       0.077542       0.092940   \n",
       "95   0.000000     0.001152          0.017466       0.017497       0.018911   \n",
       "100  0.063432     0.000000          0.000000       0.002859       0.000000   \n",
       "\n",
       "        japan  \n",
       "10   0.626112  \n",
       "20   0.000113  \n",
       "30   0.365443  \n",
       "40   0.247172  \n",
       "50   0.147640  \n",
       "60   0.068165  \n",
       "70   0.000000  \n",
       "80   0.419281  \n",
       "90   0.011688  \n",
       "95   0.000075  \n",
       "100  0.000038  "
      ]
     },
     "execution_count": 11,
     "metadata": {},
     "output_type": "execute_result"
    }
   ],
   "source": [
    "df_proportions = pd.read_csv(\"proportions_by_region.csv\", index_col=0)\n",
    "df_proportions"
   ]
  },
  {
   "cell_type": "markdown",
   "metadata": {},
   "source": [
    "# Balancing Techniques"
   ]
  },
  {
   "cell_type": "markdown",
   "metadata": {},
   "source": [
    "## ML-ROS"
   ]
  },
  {
   "cell_type": "code",
   "execution_count": 4,
   "metadata": {},
   "outputs": [],
   "source": [
    "# -*- coding: utf-8 -*-\n",
    "# @Author  : Light--\n",
    "\n",
    "\"\"\"\n",
    "Description：use ml-ros to balance celeba train set\n",
    "Similar repo: https://github.com/wtomin/Multitask-Emotion-Recognition-with-Incomplete-Labels/blob/0cedf4ca8e117fe5f2950d58af67c1e4cc831f95/create_annotation_file/DISFA/create_annotation_Mixed_AU.py\n",
    "\"\"\"\n",
    "import numpy as np\n",
    "import time\n",
    "\n",
    "def IRLbl(labels):\n",
    "    # imbalance ratio per label\n",
    "    # Args:\n",
    "    #\t labels is a 2d numpy array, each row is one instance, each column is one class; the array contains (0, 1) only\n",
    "    N, C = labels.shape\n",
    "    pos_nums_per_label = np.sum(labels, axis=0)\n",
    "    max_pos_nums = np.max(pos_nums_per_label)\n",
    "    return max_pos_nums / pos_nums_per_label\n",
    "\n",
    "def MeanIR(labels):\n",
    "    IRLbl_VALUE = IRLbl(labels)\n",
    "    return np.mean(IRLbl_VALUE)\n",
    "\n",
    "def ML_ROS(all_labels, indices=None, num_samples=None, Preset_MeanIR_value=2.,\n",
    "                 max_clone_percentage=50, sample_size=32):\n",
    "    # the index of samples: 0, 1, ....\n",
    "    # if indices is not provided,\n",
    "    # all elements in the dataset will be considered\n",
    "    indices = list(range(len(all_labels))) \\\n",
    "        if indices is None else indices\n",
    "\n",
    "    # if num_samples is not provided,\n",
    "    # draw `len(indices)` samples in each iteration\n",
    "    num_samples = len(indices) \\\n",
    "        if num_samples is None else num_samples\n",
    "\n",
    "    MeanIR_value = MeanIR(all_labels) if Preset_MeanIR_value == 0 else Preset_MeanIR_value\n",
    "    IRLbl_value = IRLbl(all_labels)\n",
    "    # N is the number of samples, C is the number of labels\n",
    "    N, C = all_labels.shape\n",
    "    # the samples index of every class\n",
    "    indices_per_class = {}\n",
    "    minority_classes = []\n",
    "    # accroding to psedu code, maxSamplesToClone is the upper limit of the number of samples can be copied from original dataset\n",
    "    maxSamplesToClone = N / 100 * max_clone_percentage\n",
    "    print('Max Clone Limit:', maxSamplesToClone)\n",
    "    for i in range(C):\n",
    "        ids = all_labels[:, i] == 1\n",
    "        # How many samples are there for each label\n",
    "        indices_per_class[i] = [ii for ii, x in enumerate(ids) if x]\n",
    "        if IRLbl_value[i] > MeanIR_value:\n",
    "            minority_classes.append(i)\n",
    "\n",
    "    new_all_labels = all_labels\n",
    "    oversampled_ids = []\n",
    "    minorNum = len(minority_classes)\n",
    "    print(minorNum, 'minor classes.')\n",
    "\n",
    "    for idx, i in enumerate(minority_classes):\n",
    "        tid = time.time()\n",
    "        while True:\n",
    "            pick_id = list(np.random.choice(indices_per_class[i], sample_size))\n",
    "            indices_per_class[i].extend(pick_id)\n",
    "            # recalculate the IRLbl_value\n",
    "            # The original label matrix (New_ all_ Labels) and randomly selected label matrix (all_ labels[pick_ ID) and recalculate the irlbl\n",
    "            new_all_labels = np.concatenate([new_all_labels, all_labels[pick_id]], axis=0)\n",
    "            oversampled_ids.extend(pick_id)\n",
    "\n",
    "            newIrlbl = IRLbl(new_all_labels)\n",
    "            if newIrlbl[i] <= MeanIR_value:\n",
    "                print('\\nMeanIR satisfied.', newIrlbl[i])\n",
    "                break\n",
    "            if len(oversampled_ids) >= maxSamplesToClone:\n",
    "                print('\\nExceed max clone.', len(oversampled_ids))\n",
    "                break\n",
    "            # if IRLbl(new_all_labels)[i] <= MeanIR_value or len(oversampled_ids) >= maxSamplesToClone:\n",
    "            #     break\n",
    "            print(\"\\roversample length:{}\".format(len(oversampled_ids)), end='')\n",
    "        print('Processed the %d/%d minor class:' % (idx+1, minorNum), i, time.time()-tid, 's')\n",
    "        if len(oversampled_ids) >= maxSamplesToClone:\n",
    "            print('Exceed max clone. Exit', len(oversampled_ids))\n",
    "            break\n",
    "    return new_all_labels, oversampled_ids\n",
    "\n",
    "# get all sample labels from celeba txt annotation file \n",
    "def get_all_labels(root, annFile, ):\n",
    "    import os\n",
    "    targets = []\n",
    "    images = []\n",
    "\n",
    "    for line in open(os.path.join(root, annFile), 'r'):\n",
    "        sample = line.split()\n",
    "        # print(sample)\n",
    "        if len(sample) != 41:\n",
    "            raise (RuntimeError(\"# Annotated face attributes of CelebA dataset should not be different from 40\"))\n",
    "        images.append(sample[0])\n",
    "        # target = [int(i) for i in sample[1:]] # -1 label will cause error\n",
    "        target = [0 if int(i) == -1 else int(i) for i in sample[1:]]\n",
    "        targets.append(target)\n",
    "    targets = np.array(targets)\n",
    "    print('All labels in the dataset:', targets.shape)\n",
    "    return targets\n",
    "\n",
    "# Copy samples that need to be oversampled, according to new txt annotation file generated after ml-ros processed \n",
    "def copy_samples(root, annFile, newAnnFile, copyIds):\n",
    "    import os\n",
    "    from shutil import copyfile\n",
    "    import sys\n",
    "\n",
    "    # adding exception handling\n",
    "    srcFile = os.path.join(root, annFile)\n",
    "    dstFile = os.path.join(root, newAnnFile)\n",
    "    # copy original file to new file\n",
    "    try:\n",
    "        copyfile(srcFile, dstFile)\n",
    "    except IOError as e:\n",
    "        print(\"Unable to copy file. %s\" % e)\n",
    "        exit(1)\n",
    "    except:\n",
    "        print(\"Unexpected error:\", sys.exc_info())\n",
    "        exit(1)\n",
    "\n",
    "    # copy samples to new file\n",
    "    copied = 0\n",
    "    txt = np.loadtxt(srcFile, dtype=str)\n",
    "    copyNum = len(copyIds)\n",
    "    txt = txt.tolist()\n",
    "\n",
    "    for lineId in copyIds:\n",
    "        newAnnFile = open(dstFile, 'a')\n",
    "        line = txt[lineId]\n",
    "        line = ' '.join(line) + '\\n'\n",
    "        newAnnFile.write(line)\n",
    "        copied += 1\n",
    "        print('\\rCopied %d/%d' % (copied, copyNum), end='')\n",
    "    print('\\nUpsampling Done. ', dstFile)\n",
    "\n",
    "# use ml-ros to process celeba dataset, reduce the class imbalance\n",
    "# def mlros_celeba():\n",
    "#     celebaRoot = r'/data2/xxx/tmp_data/celeba_mlros/annot'\n",
    "#     annFile = 'train_40_att_list.txt'\n",
    "#     allLabels = get_all_labels(celebaRoot, annFile,)\n",
    "#     print('Origianl:', len(allLabels))\n",
    "#     t1 = time.time()\n",
    "#     newLables, oversampleIds = ML_ROS(allLabels, )\n",
    "#     print('New:', len(newLables), time.time()-t1, 's')\n",
    "#     # generate new train.txt\n",
    "#     newAnnFile = 'mlros_' + annFile\n",
    "#     copy_samples(celebaRoot, annFile, newAnnFile, oversampleIds)\n",
    "\n",
    "# if __name__ == '__main__':\n",
    "#     mlros_celeba()"
   ]
  },
  {
   "cell_type": "code",
   "execution_count": 5,
   "metadata": {},
   "outputs": [
    {
     "name": "stdout",
     "output_type": "stream",
     "text": [
      "Processing region: europe\n"
     ]
    }
   ],
   "source": [
    "def to_one_hot(y, class_labels=np.array([10, 20, 30, 40, 50, 60, 70, 80, 90, 95, 100])):\n",
    "    y_classification = np.isin(class_labels, y).astype(np.float32)\n",
    "    return y_classification\n",
    "for region, region_files in REGIONS_BUCKETS.items():\n",
    "    print(f\"Processing region: {region}\")\n",
    "    # Filter train files for the current region\n",
    "    region_train_files = [f for f in train_files if any([region in f for region in region_files])]\n",
    "    break"
   ]
  },
  {
   "cell_type": "code",
   "execution_count": 15,
   "metadata": {},
   "outputs": [
    {
     "name": "stderr",
     "output_type": "stream",
     "text": [
      "100%|██████████| 188/188 [00:13<00:00, 13.93it/s]\n"
     ]
    },
    {
     "data": {
      "text/plain": [
       "(108730, 11)"
      ]
     },
     "execution_count": 15,
     "metadata": {},
     "output_type": "execute_result"
    }
   ],
   "source": [
    "hot_encoded_list = []\n",
    "\n",
    "for file in tqdm(region_train_files):\n",
    "    train_file = np.load(os.path.join(patches_folder, file))\n",
    "    hot_encoded = np.array([to_one_hot(train_file[i]) for i in range(train_file.shape[0])])\n",
    "    hot_encoded_list.append(hot_encoded)\n",
    "\n",
    "# Concatenate all hot_encoded arrays\n",
    "extended_hot_encoded = np.concatenate(hot_encoded_list, axis=0)\n",
    "extended_hot_encoded.shape"
   ]
  },
  {
   "cell_type": "code",
   "execution_count": 16,
   "metadata": {},
   "outputs": [
    {
     "name": "stderr",
     "output_type": "stream",
     "text": [
      "/tmp/ipykernel_3509152/4193040695.py:18: RuntimeWarning: divide by zero encountered in divide\n",
      "  return max_pos_nums / pos_nums_per_label\n"
     ]
    },
    {
     "name": "stdout",
     "output_type": "stream",
     "text": [
      "Max Clone Limit: 54365.0\n",
      "6 minor classes.\n",
      "oversample length:54336\n",
      "Exceed max clone. 54368\n",
      "Processed the 1/6 minor class: 1 9.052268505096436 s\n",
      "Exceed max clone. Exit 54368\n"
     ]
    }
   ],
   "source": [
    "new_labels, oversampled_ids = ML_ROS(extended_hot_encoded, num_samples=1000, max_clone_percentage=50)"
   ]
  },
  {
   "cell_type": "code",
   "execution_count": 19,
   "metadata": {},
   "outputs": [
    {
     "data": {
      "text/plain": [
       "54368"
      ]
     },
     "execution_count": 19,
     "metadata": {},
     "output_type": "execute_result"
    }
   ],
   "source": [
    "len(oversampled_ids)"
   ]
  },
  {
   "cell_type": "markdown",
   "metadata": {},
   "source": [
    "## ML-RUS"
   ]
  },
  {
   "cell_type": "code",
   "execution_count": 82,
   "metadata": {},
   "outputs": [
    {
     "name": "stdout",
     "output_type": "stream",
     "text": [
      "Positive samples per class before:\n",
      "[0.053 0.105 0.245 0.274 0.334 0.035 0.13  0.027 0.175 0.31  0.307]\n",
      "Number of samples to keep:\n",
      "250\n",
      "Positive samples per class after keeping:\n",
      "[0.172 0.244 0.452 0.48  0.496 0.124 0.292 0.108 0.364 0.456 0.512]\n"
     ]
    },
    {
     "data": {
      "image/png": "[encoded data removed]",
      "text/plain": [
       "<Figure size 1000x500 with 2 Axes>"
      ]
     },
     "metadata": {},
     "output_type": "display_data"
    }
   ],
   "source": [
    "from collections import defaultdict\n",
    "import numpy as np\n",
    "import random\n",
    "from skmultilearn.problem_transform import LabelPowerset\n",
    "from sklearn.datasets import make_multilabel_classification\n",
    "\n",
    "def distribute_remainder(r, r_dist, idx):\n",
    "    p = len(r_dist) - idx + 1\n",
    "    value = r // p\n",
    "    curr_rem = r % p\n",
    "\n",
    "    r_dist[idx:] = np.add(r_dist[idx:], value)\n",
    "    \n",
    "    if curr_rem > 0:\n",
    "        start = len(r_dist) - curr_rem\n",
    "        r_dist[start:] = np.add(r_dist[start:], 1)\n",
    "\n",
    "\n",
    "def LP_RUS(y, samples_to_keep):\n",
    "    total_samples = y.shape[0]\n",
    "    samples_to_delete = total_samples - samples_to_keep\n",
    "    if samples_to_delete <= 0:\n",
    "        return list(range(total_samples))\n",
    "\n",
    "    lp = LabelPowerset()\n",
    "    labelsets = np.array(lp.transform(y))\n",
    "    label_set_bags = defaultdict(list)\n",
    "    for idx, label in enumerate(labelsets):\n",
    "        label_set_bags[label].append(idx)\n",
    "\n",
    "    # Sort label sets by size descending\n",
    "    sorted_labels = sorted(label_set_bags.keys(), key=lambda l: len(label_set_bags[l]), reverse=True)\n",
    "\n",
    "    del_samples = []\n",
    "    # Iteratively remove samples from the largest sets until we've deleted exactly samples_to_delete\n",
    "    for label in sorted_labels:\n",
    "        if len(del_samples) == samples_to_delete:\n",
    "            break\n",
    "        # How many can we remove from this label without going below 0\n",
    "        can_remove = min(len(label_set_bags[label]), samples_to_delete - len(del_samples))\n",
    "        # Remove \"can_remove\" samples (no heuristic, just remove from front or randomly)\n",
    "        for _ in range(can_remove):\n",
    "            del_samples.append(label_set_bags[label].pop())\n",
    "\n",
    "    # If we haven't reached the exact deletion count for some reason, try again or adjust logic\n",
    "    # But if done carefully, it should match exactly.\n",
    "\n",
    "    all_indices = set(range(total_samples))\n",
    "    del_set = set(del_samples)\n",
    "    keep_indices = all_indices - del_set\n",
    "    return sorted(list(keep_indices))\n",
    "\n",
    "\n",
    "# Example of usage:\n",
    "x, y = make_multilabel_classification(n_samples=1000, n_features=10, n_classes=11)\n",
    "\n",
    "print('Positive samples per class before:')\n",
    "print(np.mean(y, axis=0))\n",
    "\n",
    "# Choose how many samples to keep, e.g., keep 750 samples out of 1000\n",
    "num_to_keep = 250\n",
    "keep_idxs = LP_RUS(y, num_to_keep)\n",
    "\n",
    "print('Number of samples to keep:')\n",
    "print(len(keep_idxs))\n",
    "\n",
    "print('Positive samples per class after keeping:')\n",
    "print(np.mean(y[keep_idxs, :], axis=0))\n",
    "\n",
    "# Plot the means before and after\n",
    "x_labels = [f'C{i+1}' for i in range(y.shape[1])]\n",
    "\n",
    "fig, axes = plt.subplots(1, 2, figsize=(10, 5), sharey=True)\n",
    "\n",
    "# Plot before\n",
    "axes[0].bar(x_labels, np.mean(y, axis=0))\n",
    "axes[0].set_title('Positive Samples per Class (Before)')\n",
    "axes[0].set_ylabel('Mean')\n",
    "axes[0].set_ylim(0, 1)\n",
    "\n",
    "# Plot after\n",
    "axes[1].bar(x_labels, np.mean(y[keep_idxs, :], axis=0), color='orange')\n",
    "axes[1].set_title('Positive Samples per Class (After)')\n",
    "\n",
    "plt.tight_layout()\n",
    "plt.show()\n",
    "\n"
   ]
  },
  {
   "cell_type": "code",
   "execution_count": null,
   "metadata": {},
   "outputs": [],
   "source": []
  },
  {
   "cell_type": "code",
   "execution_count": 95,
   "metadata": {},
   "outputs": [],
   "source": [
    "import torch\n",
    "\n",
    "# Example: Assume `labels` is a 2D tensor with shape (num_samples, num_classes)\n",
    "# Each entry is 0 or 1, indicating the absence or presence of a label.\n",
    "labels = torch.tensor([[1, 0, 1], [0, 1, 0], [1, 1, 0], [0, 0, 1]])  # Example dataset\n",
    "\n",
    "# Count positive and negative samples per label\n",
    "num_samples = labels.size(0)\n",
    "pos_counts = labels.sum(dim=0)  # Number of positive samples for each label\n",
    "neg_counts = num_samples - pos_counts  # Number of negative samples for each label\n",
    "\n",
    "# Compute positive weights\n",
    "pos_weight = neg_counts / (pos_counts + 1e-8)  # Add epsilon to avoid division by zero\n"
   ]
  },
  {
   "cell_type": "code",
   "execution_count": null,
   "metadata": {},
   "outputs": [],
   "source": []
  }
 ],
 "metadata": {
  "kernelspec": {
   "display_name": "phileo_env",
   "language": "python",
   "name": "python3"
  },
  "language_info": {
   "codemirror_mode": {
    "name": "ipython",
    "version": 3
   },
   "file_extension": ".py",
   "mimetype": "text/x-python",
   "name": "python",
   "nbconvert_exporter": "python",
   "pygments_lexer": "ipython3",
   "version": "3.9.19"
  }
 },
 "nbformat": 4,
 "nbformat_minor": 2
}
