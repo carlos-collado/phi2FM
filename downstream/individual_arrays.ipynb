{
 "cells": [
  {
   "cell_type": "code",
   "execution_count": 1,
   "metadata": {},
   "outputs": [],
   "source": [
    "import os\n",
    "import glob\n",
    "import numpy as np\n",
    "from tqdm import tqdm"
   ]
  },
  {
   "cell_type": "code",
   "execution_count": null,
   "metadata": {},
   "outputs": [],
   "source": [
    "\n",
    "# Define input and output directories\n",
    "input_dir = \"/home/phimultigpu/phisat2_foundation/np_patches_256\"\n",
    "output_dir = \"/home/phimultigpu/phisat2_foundation/np_patches_256_ind\"\n",
    "\n",
    "# Make sure the output directory exists (create if it doesn't)\n",
    "if not os.path.exists(output_dir):\n",
    "    os.makedirs(output_dir)\n",
    "\n",
    "# Iterate over each .npy file in the input directory\n",
    "for file_path in tqdm(glob.glob(os.path.join(input_dir, \"*.npy\"))):\n",
    "    # Load the array\n",
    "    arr = np.load(file_path)\n",
    "    \n",
    "    # Get the base file name (without extension) for naming output files\n",
    "    base_name = os.path.splitext(os.path.basename(file_path))[0]\n",
    "    \n",
    "    # Get the number of slices along the first dimension\n",
    "    num_slices = arr.shape[0]\n",
    "    \n",
    "    # Loop through each slice and save\n",
    "    for i in range(num_slices):\n",
    "        # Select the i-th slice across the first dimension\n",
    "        slice_arr = arr[i]  # This will have shape arr.shape[1:]\n",
    "        \n",
    "        # Create output filename (e.g., \"filename_0.npy\", \"filename_1.npy\", etc.)\n",
    "        out_name = f\"{base_name}_{i}.npy\"\n",
    "        out_path = os.path.join(output_dir, out_name)\n",
    "        \n",
    "        # Save the slice as a separate .npy file\n",
    "        np.save(out_path, slice_arr)\n",
    "\n",
    "    print(f\"Processed {base_name} into {num_slices} slices.\")\n"
   ]
  },
  {
   "cell_type": "code",
   "execution_count": null,
   "metadata": {},
   "outputs": [],
   "source": []
  },
  {
   "cell_type": "code",
   "execution_count": null,
   "metadata": {},
   "outputs": [],
   "source": []
  }
 ],
 "metadata": {
  "kernelspec": {
   "display_name": "base",
   "language": "python",
   "name": "python3"
  },
  "language_info": {
   "codemirror_mode": {
    "name": "ipython",
    "version": 3
   },
   "file_extension": ".py",
   "mimetype": "text/x-python",
   "name": "python",
   "nbconvert_exporter": "python",
   "pygments_lexer": "ipython3",
   "version": "3.8.17"
  }
 },
 "nbformat": 4,
 "nbformat_minor": 2
}
